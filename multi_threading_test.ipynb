{
  "nbformat": 4,
  "nbformat_minor": 0,
  "metadata": {
    "colab": {
      "name": "multi-threading_test",
      "provenance": []
    },
    "kernelspec": {
      "name": "python3",
      "display_name": "Python 3"
    },
    "language_info": {
      "name": "python"
    }
  },
  "cells": [
    {
      "cell_type": "code",
      "execution_count": null,
      "metadata": {
        "id": "yeYI9hRafJ4z"
      },
      "outputs": [],
      "source": [
        "from multiprocessing import Pool\n",
        "import sys\n",
        "import os\n",
        "py_file_location=\"/content/drive/MyDrive/Chess/\"\n",
        "sys.path.append(os.path.abspath(py_file_location))\n",
        "import fitness\n",
        "import eval_network\n",
        "import random\n",
        "import numpy as np\n",
        "import chess\n",
        "import time\n",
        "\n",
        "eval_model = define_evaluator()\n",
        "board = chess.Board()\n",
        "epochs = 10\n",
        "\n",
        "def evaluate(x):\n",
        "    return eval_model.predict(x.reshape(1,8,8,12)).flatten()[0]\n",
        "\n",
        "def create_mp(board):\n",
        "    legal_moves = str(board.legal_moves)[38:-2].replace(',','').split()\n",
        "    mp_array = np.array([(board,legal_move) for legal_move in legal_moves])\n",
        "    return mp_array\n",
        "    \n",
        "def random_path(board,move,depth = 10):\n",
        "    play_board = board.copy()\n",
        "    play_board.push_san(move)\n",
        "    for _ in range(depth):\n",
        "        print('Depth:',depth)\n",
        "        legal_moves = str(play_board.legal_moves)[38:-2].replace(',','').split()\n",
        "        if legal_moves:\n",
        "            move = random.choice(legal_moves)\n",
        "            play_board.push_san(move)\n",
        "        else:\n",
        "            break\n",
        "    matrix = make_matrix(play_board.copy())\n",
        "    translated = np.array(translate(matrix))\n",
        "    return evaluate(translated)\n",
        "\n",
        "def eval_mp(board):\n",
        "    print('Start Multiprocessing')\n",
        "    mp_array = create_mp(board)\n",
        "    time1 = time.time()\n",
        "    with Pool(5) as p2:\n",
        "        eval = p2.starmap(random_path,mp_array)\n",
        "    p2.close()\n",
        "    time2 = time.time()\n",
        "    print(time2-time1)\n",
        "    return eval\n",
        "\n",
        "if __name__ == '__main__':\n",
        "    for epoch in range(epochs):\n",
        "        print('EPOCH:',epoch)\n",
        "        if epoch == 0:\n",
        "            score = np.array(eval_mp(board))\n",
        "        else:\n",
        "            score += np.array(eval_mp(board))\n",
        "        print(score)"
      ]
    }
  ]
}