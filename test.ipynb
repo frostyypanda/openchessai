{
  "cells": [
    {
      "cell_type": "code",
      "execution_count": null,
      "metadata": {
        "id": "nEYObbvhJaXL"
      },
      "outputs": [],
      "source": [
        "print(\"hello world\")\n",
        "\n",
        "print(\"zebra pase travu2 21 \")"
      ]
    }
  ],
  "metadata": {
    "language_info": {
      "name": "python"
    },
    "orig_nbformat": 4,
    "colab": {
      "name": "test.ipynb",
      "provenance": []
    },
    "kernelspec": {
      "name": "python3",
      "display_name": "Python 3"
    }
  },
  "nbformat": 4,
  "nbformat_minor": 0
}