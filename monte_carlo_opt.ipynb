{
  "nbformat": 4,
  "nbformat_minor": 0,
  "metadata": {
    "colab": {
      "name": "monte_carlo_opt",
      "provenance": []
    },
    "kernelspec": {
      "name": "python3",
      "display_name": "Python 3"
    },
    "language_info": {
      "name": "python"
    }
  },
  "cells": [
    {
      "cell_type": "code",
      "execution_count": null,
      "metadata": {
        "id": "aVE40thZaqVL"
      },
      "outputs": [],
      "source": [
        "import random\n",
        "import sys\n",
        "import os\n",
        "py_file_location=\"/content/drive/MyDrive/Chess/\"\n",
        "sys.path.append(os.path.abspath(py_file_location))\n",
        "import board_conversion\n",
        "import numpy as np\n",
        "import time \n",
        "\n",
        "def random_search_timed(board,evaluation,epochs = 5,depth = 5):\n",
        "    start_time = time.time()\n",
        "    first_legal_moves = list(board.legal_moves)\n",
        "    scores = np.ones(len(first_legal_moves))\n",
        "    search_time = 0\n",
        "    eval_time = 0\n",
        "    for epoch in range(epochs):\n",
        "\n",
        "        for first_move in range(len(first_legal_moves)):\n",
        "            play_board = board.copy()\n",
        "            play_board.push(first_legal_moves[first_move])\n",
        "\n",
        "            search_time1 = time.time()\n",
        "            for _ in range(depth):\n",
        "                legal_moves = list(play_board.legal_moves)\n",
        "                if legal_moves:\n",
        "                    move = random.choice(legal_moves)\n",
        "                    play_board.push(move)\n",
        "                else:\n",
        "                    break\n",
        "            search_time2 = time.time()\n",
        "\n",
        "            search_time += (search_time2 - search_time1)\n",
        "\n",
        "\n",
        "            eval_time1 = time.time()\n",
        "            translated = np.array(translate(play_board))\n",
        "            scores[first_move] += evaluation(translated)\n",
        "            eval_time2 = time.time()\n",
        "\n",
        "            eval_time += (eval_time2-eval_time1)\n",
        "    end_time = time.time()\n",
        "\n",
        "    total_time = end_time - start_time\n",
        "    '''\n",
        "    print('Total Time/s:',str(total_time))\n",
        "    print('\\n')\n",
        "    print('Search Time:',str(search_time))\n",
        "    print('Eval Time:',str(eval_time))\n",
        "    print('\\n')\n",
        "    print('Search Time/%:',str(search_time/total_time*100))\n",
        "    print('Eval Time/%:',str(eval_time/total_time*100))\n",
        "    '''\n",
        "    idx = np.where(scores == max(scores))[0][0]\n",
        "    return first_legal_moves[idx]"
      ]
    },
    {
      "cell_type": "code",
      "source": [
        "import chess\n",
        "from keras.models import Sequential\n",
        "from keras.layers import Dense,Flatten\n",
        "\n",
        "model = Sequential()\n",
        "model.add(Dense(10,input_shape = (8,8,12)))\n",
        "model.add(Dense(10))\n",
        "model.add(Flatten())\n",
        "model.add(Dense(1))\n",
        "\n",
        "def evaluation(input):\n",
        "    pred = model(input.reshape(1,8,8,12))\n",
        "    return pred\n",
        "\n",
        "player_1 = model\n",
        "player_2 = model\n",
        "\n",
        "print('Hello')\n",
        "board = chess.Board()\n",
        "while not(board.is_game_over()):\n",
        "    print('MO')\n",
        "    p1_move = random_search_timed(board,evaluation)\n",
        "    board.push(p1_move)\n",
        "    print(p1_move)\n",
        "\n",
        "    print()\n",
        "    p2_move = random_search_timed(board,evaluation)\n",
        "    board.push(p2_move)\n",
        "    print(p2_move)"
      ],
      "metadata": {
        "id": "tdKr83KrevCP"
      },
      "execution_count": null,
      "outputs": []
    },
    {
      "cell_type": "code",
      "source": [
        "board = chess.Board()\n",
        "\n",
        "time1 = time.time()\n",
        "board.push(list(board.legal_moves)[0])\n",
        "time2 = time.time()\n",
        "print(time1-time2)"
      ],
      "metadata": {
        "id": "M2wUJzYse1By"
      },
      "execution_count": null,
      "outputs": []
    },
    {
      "cell_type": "code",
      "source": [
        "list(board.legal_moves)"
      ],
      "metadata": {
        "id": "b7t5qifJe3hU"
      },
      "execution_count": null,
      "outputs": []
    }
  ]
}